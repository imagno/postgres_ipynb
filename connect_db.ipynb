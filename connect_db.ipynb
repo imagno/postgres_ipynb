{
 "cells": [
  {
   "cell_type": "markdown",
   "metadata": {},
   "source": [
    "# Trabalhando com PostgreSQL"
   ]
  },
  {
   "cell_type": "markdown",
   "metadata": {},
   "source": [
    "### Conexão"
   ]
  },
  {
   "cell_type": "markdown",
   "metadata": {},
   "source": [
    "- Baixando módulos necessários para conexão"
   ]
  },
  {
   "cell_type": "markdown",
   "metadata": {},
   "source": [
    "*Foi necessário instalar o psycopg2 via terminal com o seguinte comando ```sudo apt-get install build-dep python-psycopg2``` e depois instalar o binário através do gerenciador **pip** para o módulo ser reconhecido no **env**.*"
   ]
  },
  {
   "cell_type": "code",
   "execution_count": 2,
   "metadata": {},
   "outputs": [
    {
     "name": "stdout",
     "output_type": "stream",
     "text": [
      "Defaulting to user installation because normal site-packages is not writeable\n",
      "Collecting python-dotenv\n",
      "  Downloading python_dotenv-1.0.0-py3-none-any.whl (19 kB)\n",
      "Installing collected packages: python-dotenv\n",
      "Successfully installed python-dotenv-1.0.0\n",
      "Note: you may need to restart the kernel to use updated packages.\n"
     ]
    }
   ],
   "source": [
    "#%pip install pandas\n",
    "#%pip install psycopg2-binary\n",
    "%pip install python-dotenv"
   ]
  },
  {
   "cell_type": "markdown",
   "metadata": {},
   "source": [
    "- Importando módulos"
   ]
  },
  {
   "cell_type": "code",
   "execution_count": 1,
   "metadata": {},
   "outputs": [],
   "source": [
    "import pandas as pd\n",
    "import psycopg2\n",
    "from dotenv import load_dotenv\n",
    "from os import getenv"
   ]
  },
  {
   "cell_type": "markdown",
   "metadata": {},
   "source": [
    "- Obtendo credenciais de acesso ao PostgreSQL"
   ]
  },
  {
   "cell_type": "markdown",
   "metadata": {},
   "source": [
    "Foi preciso mudar a variável de ambiente **USER** para **USR** evitando assim o conflito no valor da variável no dotenv e no próprio SO"
   ]
  },
  {
   "cell_type": "code",
   "execution_count": 2,
   "metadata": {},
   "outputs": [],
   "source": [
    "load_dotenv()\n",
    "\n",
    "user = getenv('USR') or 'postgres'\n",
    "passwd = getenv('PASSWD') or 'postgres'\n",
    "host = getenv('HOST') or 'localhost'\n",
    "port = getenv('PORT') or '5432'\n",
    "default_db = getenv('DB') or 'postgres'\n"
   ]
  },
  {
   "cell_type": "markdown",
   "metadata": {},
   "source": [
    "- Conectando ao PostgreSQL"
   ]
  },
  {
   "cell_type": "code",
   "execution_count": 4,
   "metadata": {},
   "outputs": [
    {
     "data": {
      "text/plain": [
       "<connection object at 0x7f7c0bb76980; dsn: 'user=postgres password=xxx dbname=pokedata host=localhost port=5433', closed: 0>"
      ]
     },
     "execution_count": 4,
     "metadata": {},
     "output_type": "execute_result"
    }
   ],
   "source": [
    "def db_connect(host, port, db, user, passwd):\n",
    "    connect = psycopg2.connect (\n",
    "        host = host,\n",
    "        port = port,\n",
    "        database = db,\n",
    "        user = user,\n",
    "        password = passwd\n",
    "    )\n",
    "\n",
    "    return connect\n",
    "\n",
    "db_connect(host, port, default_db, user, passwd)"
   ]
  },
  {
   "cell_type": "markdown",
   "metadata": {},
   "source": [
    "### Carregando dados"
   ]
  },
  {
   "cell_type": "code",
   "execution_count": 5,
   "metadata": {},
   "outputs": [
    {
     "data": {
      "text/html": [
       "<div>\n",
       "<style scoped>\n",
       "    .dataframe tbody tr th:only-of-type {\n",
       "        vertical-align: middle;\n",
       "    }\n",
       "\n",
       "    .dataframe tbody tr th {\n",
       "        vertical-align: top;\n",
       "    }\n",
       "\n",
       "    .dataframe thead th {\n",
       "        text-align: right;\n",
       "    }\n",
       "</style>\n",
       "<table border=\"1\" class=\"dataframe\">\n",
       "  <thead>\n",
       "    <tr style=\"text-align: right;\">\n",
       "      <th></th>\n",
       "      <th>#</th>\n",
       "      <th>Name</th>\n",
       "      <th>Generation</th>\n",
       "      <th>Legendary</th>\n",
       "    </tr>\n",
       "  </thead>\n",
       "  <tbody>\n",
       "    <tr>\n",
       "      <th>0</th>\n",
       "      <td>1</td>\n",
       "      <td>Bulbasaur</td>\n",
       "      <td>1</td>\n",
       "      <td>False</td>\n",
       "    </tr>\n",
       "    <tr>\n",
       "      <th>1</th>\n",
       "      <td>2</td>\n",
       "      <td>Ivysaur</td>\n",
       "      <td>1</td>\n",
       "      <td>False</td>\n",
       "    </tr>\n",
       "    <tr>\n",
       "      <th>2</th>\n",
       "      <td>3</td>\n",
       "      <td>Venusaur</td>\n",
       "      <td>1</td>\n",
       "      <td>False</td>\n",
       "    </tr>\n",
       "    <tr>\n",
       "      <th>3</th>\n",
       "      <td>3</td>\n",
       "      <td>VenusaurMega Venusaur</td>\n",
       "      <td>1</td>\n",
       "      <td>False</td>\n",
       "    </tr>\n",
       "    <tr>\n",
       "      <th>4</th>\n",
       "      <td>4</td>\n",
       "      <td>Charmander</td>\n",
       "      <td>1</td>\n",
       "      <td>False</td>\n",
       "    </tr>\n",
       "  </tbody>\n",
       "</table>\n",
       "</div>"
      ],
      "text/plain": [
       "   #                   Name  Generation  Legendary\n",
       "0  1              Bulbasaur           1      False\n",
       "1  2                Ivysaur           1      False\n",
       "2  3               Venusaur           1      False\n",
       "3  3  VenusaurMega Venusaur           1      False\n",
       "4  4             Charmander           1      False"
      ]
     },
     "execution_count": 5,
     "metadata": {},
     "output_type": "execute_result"
    }
   ],
   "source": [
    "df_pk_types = pd.read_csv('./data/pk_types.csv', sep=';')\n",
    "df_pk_status = pd.read_csv('./data/pk_status.csv', sep=';')\n",
    "df_pk_gen = pd.read_csv('./data/pk_gen.csv', sep=';')\n",
    "\n",
    "df_pk_gen.head()"
   ]
  },
  {
   "cell_type": "markdown",
   "metadata": {},
   "source": [
    "### Manipulando o banco de dados"
   ]
  },
  {
   "cell_type": "markdown",
   "metadata": {},
   "source": [
    "- Função para criar tabelas"
   ]
  },
  {
   "cell_type": "code",
   "execution_count": 6,
   "metadata": {},
   "outputs": [],
   "source": [
    "def create_db(sql):\n",
    "    connect = db_connect(host, port, default_db, user, passwd)\n",
    "    cursor = connect.cursor()\n",
    "    \n",
    "    cursor.execute(sql)\n",
    "    connect.commit()\n",
    "    connect.close()"
   ]
  },
  {
   "cell_type": "markdown",
   "metadata": {},
   "source": [
    "- Criando a tabela **pk_types** para armazenar:\n",
    "    - type_id (usado para armazenar o código de identificação de cada tipo)\n",
    "    - type_name (usado para armazenar o tipo)"
   ]
  },
  {
   "cell_type": "code",
   "execution_count": 6,
   "metadata": {},
   "outputs": [],
   "source": [
    "pk_types_sql = '''CREATE TABLE IF NOT EXISTS pokedata.public.pk_types (\n",
    "    type_id                 serial PRIMARY KEY\n",
    "    ,type_name              VARCHAR(10) NOT NULL\n",
    ")'''\n",
    "\n",
    "create_db(pk_types_sql)"
   ]
  },
  {
   "cell_type": "markdown",
   "metadata": {},
   "source": [
    " - Criando a tabela **pk_gen** para armazenar:\n",
    "    - gen_id (usado para identificar a geração e se o pokemon é do tipo lendário ou não)\n",
    "    - generation (usado para armazenar a geração)\n",
    "    - legendary (usado para armazenar se é um pokemon lendário ou não)"
   ]
  },
  {
   "cell_type": "code",
   "execution_count": 11,
   "metadata": {},
   "outputs": [],
   "source": [
    "pk_gen_sql = '''CREATE TABLE IF NOT EXISTS pokedata.public.pk_gen (\n",
    "    gen_id                  serial PRIMARY KEY\n",
    "    ,generation             SMALLINT NOT NULL\n",
    "    ,legendary              BOOL DEFAULT false\n",
    ")'''\n",
    "\n",
    "create_db(pk_gen_sql)"
   ]
  },
  {
   "cell_type": "markdown",
   "metadata": {},
   "source": [
    "- Criando a tabela **pk_names** para armazenar:\n",
    "    - name_id (id principal de registro dos pokemons)\n",
    "    - ref_num (número de referência comumente utilizado nos jogos)\n",
    "    - name (nome padrão de cada pokemon)\n",
    "    - type_1 (tipo primário obrigatório para cada pokemon)\n",
    "    - type_2 (tipo secundário presente em alguns pokemons)\n",
    "    - gen (referência a qual geração cada pokemon pertence e se é lendário ou não)\n",
    "\n",
    "    *As colunas type_1 e type_2 serão vinculadas a tabela pk_types e a coluna gen a tabela pk_gen*"
   ]
  },
  {
   "cell_type": "code",
   "execution_count": 12,
   "metadata": {},
   "outputs": [],
   "source": [
    "pk_names_sql = '''CREATE TABLE IF NOT EXISTS pokedata.public.pk_names (\n",
    "    name_id                             serial PRIMARY KEY\n",
    "    ,ref_num                            SMALLINT NOT NULL\n",
    "    ,name                               VARCHAR(30) UNIQUE NOT NULL\n",
    "    ,type_1                             INT NOT NULL\n",
    "    ,type_2                             INT NULL\n",
    "    ,gen                                INT NOT NULL\n",
    "    ,FOREIGN KEY (type_1)\n",
    "        REFERENCES pk_types (type_id)\n",
    "    ,FOREIGN KEY (type_2)\n",
    "        REFERENCES pk_types (type_id)\n",
    "    ,FOREIGN KEY (gen)\n",
    "        REFERENCES pk_gen (gen_id)\n",
    ")'''\n",
    "\n",
    "create_db(pk_names_sql)"
   ]
  },
  {
   "cell_type": "markdown",
   "metadata": {},
   "source": [
    "- Criando a tabela **pk_status** para armazenar:\n",
    "    - status_id (usado para vincular cada status a seu respectivo pokemon)\n",
    "    - attack (usado para armazenar pontuação de ataque comum)\n",
    "    - defense (usado para armazenar pontuação de defesa comum)\n",
    "    - sp_atk (usado para armazenar pontuação de ataque especial)\n",
    "    - sp_def (usado para armazenar pontuação de defesa especial)\n",
    "    - total (somatório das pontuações de ataque e defesa)\n",
    "\n",
    "*A coluna status_id será vinculada a seu respectivo pokemon na coluna name_id na tabela pk_names*"
   ]
  },
  {
   "cell_type": "code",
   "execution_count": 7,
   "metadata": {},
   "outputs": [],
   "source": [
    "pk_status_sql = '''CREATE TABLE IF NOT EXISTS pokedata.public.pk_status (\n",
    "    status_id                        INT NOT NULL PRIMARY KEY\n",
    "    ,attack                          SMALLINT DEFAULT 0\n",
    "    ,defense                         SMALLINT DEFAULT 0\n",
    "    ,sp_atk                          SMALLINT DEFAULT 0\n",
    "    ,sp_def                          SMALLINT DEFAULT 0\n",
    "    ,FOREIGN KEY (status_id)\n",
    "        REFERENCES pk_names (name_id)\n",
    ")'''\n",
    "\n",
    "create_db(pk_status_sql)"
   ]
  }
 ],
 "metadata": {
  "kernelspec": {
   "display_name": "Python 3",
   "language": "python",
   "name": "python3"
  },
  "language_info": {
   "codemirror_mode": {
    "name": "ipython",
    "version": 3
   },
   "file_extension": ".py",
   "mimetype": "text/x-python",
   "name": "python",
   "nbconvert_exporter": "python",
   "pygments_lexer": "ipython3",
   "version": "3.10.12"
  }
 },
 "nbformat": 4,
 "nbformat_minor": 2
}
